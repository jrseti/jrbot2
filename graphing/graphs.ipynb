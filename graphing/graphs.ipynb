{
 "cells": [
  {
   "cell_type": "code",
   "execution_count": 31,
   "metadata": {},
   "outputs": [],
   "source": [
    "import sys\n",
    "import plotly.graph_objects as go\n",
    "import pandas as pd\n",
    "import sqlalchemy\n",
    "from config import *\n",
    "from urllib.parse import quote_plus\n",
    "from ts_auth0 import TS_Auth\n",
    "import requests\n",
    "from datetime import datetime as dt\n",
    "from datetime import timedelta"
   ]
  },
  {
   "cell_type": "code",
   "execution_count": 2,
   "metadata": {},
   "outputs": [],
   "source": [
    "def getDf(ticker, start_date, end_date):\n",
    "    # Create the database engine\n",
    "    url = f'mysql://{DB_USER}:{quote_plus(DB_PASS)}@{DB_HOST}:{DB_PORT}/{DB_NAME}'\n",
    "    #print(url)\n",
    "    engine = sqlalchemy.create_engine(url)\n",
    "\n",
    "    query  = f\"SELECT * FROM bars_1min WHERE ticker='{ticker}' AND \"\n",
    "    query += f\"datetime >= '{start_date}' AND \"\n",
    "    query += f\"datetime <= '{end_date}' \"\n",
    "    query += \"ORDER BY datetime ASC\"\n",
    "\n",
    "    df = None\n",
    "    with engine.connect() as conn:\n",
    "        df = pd.read_sql(query, con = conn)\n",
    "\n",
    "    #display(df)\n",
    "\n",
    "    return df\n"
   ]
  },
  {
   "cell_type": "code",
   "execution_count": 14,
   "metadata": {},
   "outputs": [
    {
     "data": {
      "text/html": [
       "<div>\n",
       "<style scoped>\n",
       "    .dataframe tbody tr th:only-of-type {\n",
       "        vertical-align: middle;\n",
       "    }\n",
       "\n",
       "    .dataframe tbody tr th {\n",
       "        vertical-align: top;\n",
       "    }\n",
       "\n",
       "    .dataframe thead th {\n",
       "        text-align: right;\n",
       "    }\n",
       "</style>\n",
       "<table border=\"1\" class=\"dataframe\">\n",
       "  <thead>\n",
       "    <tr style=\"text-align: right;\">\n",
       "      <th></th>\n",
       "      <th>id</th>\n",
       "      <th>ticker</th>\n",
       "      <th>datetime</th>\n",
       "      <th>open</th>\n",
       "      <th>high</th>\n",
       "      <th>low</th>\n",
       "      <th>close</th>\n",
       "      <th>volume</th>\n",
       "      <th>open_interest</th>\n",
       "    </tr>\n",
       "  </thead>\n",
       "  <tbody>\n",
       "    <tr>\n",
       "      <th>0</th>\n",
       "      <td>83787</td>\n",
       "      <td>RTYU23</td>\n",
       "      <td>2023-08-08 07:00:00</td>\n",
       "      <td>1956.9</td>\n",
       "      <td>1957.2</td>\n",
       "      <td>1956.7</td>\n",
       "      <td>1957.1</td>\n",
       "      <td>13</td>\n",
       "      <td>0</td>\n",
       "    </tr>\n",
       "    <tr>\n",
       "      <th>1</th>\n",
       "      <td>83788</td>\n",
       "      <td>RTYU23</td>\n",
       "      <td>2023-08-08 07:01:00</td>\n",
       "      <td>1957.2</td>\n",
       "      <td>1957.3</td>\n",
       "      <td>1956.5</td>\n",
       "      <td>1957.1</td>\n",
       "      <td>122</td>\n",
       "      <td>0</td>\n",
       "    </tr>\n",
       "    <tr>\n",
       "      <th>2</th>\n",
       "      <td>83789</td>\n",
       "      <td>RTYU23</td>\n",
       "      <td>2023-08-08 07:02:00</td>\n",
       "      <td>1957.0</td>\n",
       "      <td>1957.5</td>\n",
       "      <td>1956.6</td>\n",
       "      <td>1956.8</td>\n",
       "      <td>120</td>\n",
       "      <td>0</td>\n",
       "    </tr>\n",
       "    <tr>\n",
       "      <th>3</th>\n",
       "      <td>83790</td>\n",
       "      <td>RTYU23</td>\n",
       "      <td>2023-08-08 07:03:00</td>\n",
       "      <td>1956.6</td>\n",
       "      <td>1957.1</td>\n",
       "      <td>1955.8</td>\n",
       "      <td>1957.1</td>\n",
       "      <td>146</td>\n",
       "      <td>0</td>\n",
       "    </tr>\n",
       "    <tr>\n",
       "      <th>4</th>\n",
       "      <td>83791</td>\n",
       "      <td>RTYU23</td>\n",
       "      <td>2023-08-08 07:04:00</td>\n",
       "      <td>1957.0</td>\n",
       "      <td>1957.3</td>\n",
       "      <td>1956.7</td>\n",
       "      <td>1956.9</td>\n",
       "      <td>57</td>\n",
       "      <td>0</td>\n",
       "    </tr>\n",
       "  </tbody>\n",
       "</table>\n",
       "</div>"
      ],
      "text/plain": [
       "      id  ticker            datetime    open    high     low   close  volume  \\\n",
       "0  83787  RTYU23 2023-08-08 07:00:00  1956.9  1957.2  1956.7  1957.1      13   \n",
       "1  83788  RTYU23 2023-08-08 07:01:00  1957.2  1957.3  1956.5  1957.1     122   \n",
       "2  83789  RTYU23 2023-08-08 07:02:00  1957.0  1957.5  1956.6  1956.8     120   \n",
       "3  83790  RTYU23 2023-08-08 07:03:00  1956.6  1957.1  1955.8  1957.1     146   \n",
       "4  83791  RTYU23 2023-08-08 07:04:00  1957.0  1957.3  1956.7  1956.9      57   \n",
       "\n",
       "   open_interest  \n",
       "0              0  \n",
       "1              0  \n",
       "2              0  \n",
       "3              0  \n",
       "4              0  "
      ]
     },
     "execution_count": 14,
     "metadata": {},
     "output_type": "execute_result"
    }
   ],
   "source": []
  },
  {
   "cell_type": "code",
   "execution_count": 45,
   "metadata": {},
   "outputs": [
    {
     "name": "stdout",
     "output_type": "stream",
     "text": [
      "2023-08-09T15:29:00Z 2023-08-09T16:28:00Z\n"
     ]
    },
    {
     "data": {
      "application/vnd.plotly.v1+json": {
       "config": {
        "plotlyServerURL": "https://plot.ly"
       },
       "data": [
        {
         "close": [
          445.92,
          446.02,
          445.84,
          445.86,
          446.07,
          446.24,
          446.39,
          446.35,
          446.31,
          446.27,
          446.28,
          446.31,
          446.14,
          446.18,
          446.12,
          445.95,
          445.96,
          445.98,
          445.67,
          445.76,
          445.77,
          445.53,
          445.51,
          445.43,
          445.39,
          445.24,
          445.32,
          445.31,
          445.35,
          445.4,
          445.47,
          445.55,
          445.55,
          445.68,
          445.63,
          445.68,
          445.75,
          446.09,
          446
         ],
         "high": [
          446.16,
          446.03,
          446.02,
          446.02,
          446.1,
          446.27,
          446.4,
          446.38,
          446.36,
          446.39,
          446.39,
          446.32,
          446.38,
          446.22,
          446.15,
          446.11,
          446.07,
          446.17,
          446.03,
          445.9,
          445.9,
          445.8,
          445.66,
          445.59,
          445.53,
          445.39,
          445.42,
          445.4,
          445.41,
          445.47,
          445.54,
          445.59,
          445.68,
          445.7,
          445.71,
          445.73,
          445.8,
          446.13,
          446.09
         ],
         "low": [
          445.91,
          445.87,
          445.74,
          445.71,
          445.83,
          446.04,
          446.19,
          446.25,
          446.26,
          446.27,
          446.22,
          446.24,
          446.07,
          446.14,
          446.03,
          445.95,
          445.95,
          445.94,
          445.67,
          445.62,
          445.76,
          445.5,
          445.48,
          445.37,
          445.35,
          445.18,
          445.2,
          445.24,
          444.96,
          445.11,
          445.26,
          445.42,
          445.52,
          445.55,
          445.56,
          445.59,
          445.61,
          445.75,
          445.95
         ],
         "open": [
          446.12,
          445.92,
          446.02,
          445.84,
          445.85,
          446.06,
          446.24,
          446.37,
          446.35,
          446.31,
          446.28,
          446.28,
          446.32,
          446.14,
          446.14,
          446.11,
          445.95,
          445.95,
          445.98,
          445.67,
          445.76,
          445.77,
          445.55,
          445.51,
          445.43,
          445.39,
          445.25,
          445.32,
          445.3,
          445.12,
          445.39,
          445.47,
          445.55,
          445.55,
          445.67,
          445.63,
          445.66,
          445.75,
          446.09
         ],
         "type": "candlestick",
         "x": [
          "2023-08-09T15:29:00",
          "2023-08-09T15:30:00",
          "2023-08-09T15:31:00",
          "2023-08-09T15:32:00",
          "2023-08-09T15:33:00",
          "2023-08-09T15:34:00",
          "2023-08-09T15:35:00",
          "2023-08-09T15:36:00",
          "2023-08-09T15:37:00",
          "2023-08-09T15:38:00",
          "2023-08-09T15:39:00",
          "2023-08-09T15:40:00",
          "2023-08-09T15:41:00",
          "2023-08-09T15:42:00",
          "2023-08-09T15:43:00",
          "2023-08-09T15:44:00",
          "2023-08-09T15:45:00",
          "2023-08-09T15:46:00",
          "2023-08-09T15:47:00",
          "2023-08-09T15:48:00",
          "2023-08-09T15:49:00",
          "2023-08-09T15:50:00",
          "2023-08-09T15:51:00",
          "2023-08-09T15:52:00",
          "2023-08-09T15:53:00",
          "2023-08-09T15:54:00",
          "2023-08-09T15:55:00",
          "2023-08-09T15:56:00",
          "2023-08-09T15:57:00",
          "2023-08-09T16:00:00",
          "2023-08-09T16:01:00",
          "2023-08-09T16:02:00",
          "2023-08-09T16:03:00",
          "2023-08-09T16:04:00",
          "2023-08-09T16:05:00",
          "2023-08-09T16:06:00",
          "2023-08-09T16:07:00",
          "2023-08-09T16:08:00",
          "2023-08-09T16:09:00"
         ]
        }
       ],
       "layout": {
        "template": {
         "data": {
          "bar": [
           {
            "error_x": {
             "color": "#2a3f5f"
            },
            "error_y": {
             "color": "#2a3f5f"
            },
            "marker": {
             "line": {
              "color": "#E5ECF6",
              "width": 0.5
             },
             "pattern": {
              "fillmode": "overlay",
              "size": 10,
              "solidity": 0.2
             }
            },
            "type": "bar"
           }
          ],
          "barpolar": [
           {
            "marker": {
             "line": {
              "color": "#E5ECF6",
              "width": 0.5
             },
             "pattern": {
              "fillmode": "overlay",
              "size": 10,
              "solidity": 0.2
             }
            },
            "type": "barpolar"
           }
          ],
          "carpet": [
           {
            "aaxis": {
             "endlinecolor": "#2a3f5f",
             "gridcolor": "white",
             "linecolor": "white",
             "minorgridcolor": "white",
             "startlinecolor": "#2a3f5f"
            },
            "baxis": {
             "endlinecolor": "#2a3f5f",
             "gridcolor": "white",
             "linecolor": "white",
             "minorgridcolor": "white",
             "startlinecolor": "#2a3f5f"
            },
            "type": "carpet"
           }
          ],
          "choropleth": [
           {
            "colorbar": {
             "outlinewidth": 0,
             "ticks": ""
            },
            "type": "choropleth"
           }
          ],
          "contour": [
           {
            "colorbar": {
             "outlinewidth": 0,
             "ticks": ""
            },
            "colorscale": [
             [
              0,
              "#0d0887"
             ],
             [
              0.1111111111111111,
              "#46039f"
             ],
             [
              0.2222222222222222,
              "#7201a8"
             ],
             [
              0.3333333333333333,
              "#9c179e"
             ],
             [
              0.4444444444444444,
              "#bd3786"
             ],
             [
              0.5555555555555556,
              "#d8576b"
             ],
             [
              0.6666666666666666,
              "#ed7953"
             ],
             [
              0.7777777777777778,
              "#fb9f3a"
             ],
             [
              0.8888888888888888,
              "#fdca26"
             ],
             [
              1,
              "#f0f921"
             ]
            ],
            "type": "contour"
           }
          ],
          "contourcarpet": [
           {
            "colorbar": {
             "outlinewidth": 0,
             "ticks": ""
            },
            "type": "contourcarpet"
           }
          ],
          "heatmap": [
           {
            "colorbar": {
             "outlinewidth": 0,
             "ticks": ""
            },
            "colorscale": [
             [
              0,
              "#0d0887"
             ],
             [
              0.1111111111111111,
              "#46039f"
             ],
             [
              0.2222222222222222,
              "#7201a8"
             ],
             [
              0.3333333333333333,
              "#9c179e"
             ],
             [
              0.4444444444444444,
              "#bd3786"
             ],
             [
              0.5555555555555556,
              "#d8576b"
             ],
             [
              0.6666666666666666,
              "#ed7953"
             ],
             [
              0.7777777777777778,
              "#fb9f3a"
             ],
             [
              0.8888888888888888,
              "#fdca26"
             ],
             [
              1,
              "#f0f921"
             ]
            ],
            "type": "heatmap"
           }
          ],
          "heatmapgl": [
           {
            "colorbar": {
             "outlinewidth": 0,
             "ticks": ""
            },
            "colorscale": [
             [
              0,
              "#0d0887"
             ],
             [
              0.1111111111111111,
              "#46039f"
             ],
             [
              0.2222222222222222,
              "#7201a8"
             ],
             [
              0.3333333333333333,
              "#9c179e"
             ],
             [
              0.4444444444444444,
              "#bd3786"
             ],
             [
              0.5555555555555556,
              "#d8576b"
             ],
             [
              0.6666666666666666,
              "#ed7953"
             ],
             [
              0.7777777777777778,
              "#fb9f3a"
             ],
             [
              0.8888888888888888,
              "#fdca26"
             ],
             [
              1,
              "#f0f921"
             ]
            ],
            "type": "heatmapgl"
           }
          ],
          "histogram": [
           {
            "marker": {
             "pattern": {
              "fillmode": "overlay",
              "size": 10,
              "solidity": 0.2
             }
            },
            "type": "histogram"
           }
          ],
          "histogram2d": [
           {
            "colorbar": {
             "outlinewidth": 0,
             "ticks": ""
            },
            "colorscale": [
             [
              0,
              "#0d0887"
             ],
             [
              0.1111111111111111,
              "#46039f"
             ],
             [
              0.2222222222222222,
              "#7201a8"
             ],
             [
              0.3333333333333333,
              "#9c179e"
             ],
             [
              0.4444444444444444,
              "#bd3786"
             ],
             [
              0.5555555555555556,
              "#d8576b"
             ],
             [
              0.6666666666666666,
              "#ed7953"
             ],
             [
              0.7777777777777778,
              "#fb9f3a"
             ],
             [
              0.8888888888888888,
              "#fdca26"
             ],
             [
              1,
              "#f0f921"
             ]
            ],
            "type": "histogram2d"
           }
          ],
          "histogram2dcontour": [
           {
            "colorbar": {
             "outlinewidth": 0,
             "ticks": ""
            },
            "colorscale": [
             [
              0,
              "#0d0887"
             ],
             [
              0.1111111111111111,
              "#46039f"
             ],
             [
              0.2222222222222222,
              "#7201a8"
             ],
             [
              0.3333333333333333,
              "#9c179e"
             ],
             [
              0.4444444444444444,
              "#bd3786"
             ],
             [
              0.5555555555555556,
              "#d8576b"
             ],
             [
              0.6666666666666666,
              "#ed7953"
             ],
             [
              0.7777777777777778,
              "#fb9f3a"
             ],
             [
              0.8888888888888888,
              "#fdca26"
             ],
             [
              1,
              "#f0f921"
             ]
            ],
            "type": "histogram2dcontour"
           }
          ],
          "mesh3d": [
           {
            "colorbar": {
             "outlinewidth": 0,
             "ticks": ""
            },
            "type": "mesh3d"
           }
          ],
          "parcoords": [
           {
            "line": {
             "colorbar": {
              "outlinewidth": 0,
              "ticks": ""
             }
            },
            "type": "parcoords"
           }
          ],
          "pie": [
           {
            "automargin": true,
            "type": "pie"
           }
          ],
          "scatter": [
           {
            "fillpattern": {
             "fillmode": "overlay",
             "size": 10,
             "solidity": 0.2
            },
            "type": "scatter"
           }
          ],
          "scatter3d": [
           {
            "line": {
             "colorbar": {
              "outlinewidth": 0,
              "ticks": ""
             }
            },
            "marker": {
             "colorbar": {
              "outlinewidth": 0,
              "ticks": ""
             }
            },
            "type": "scatter3d"
           }
          ],
          "scattercarpet": [
           {
            "marker": {
             "colorbar": {
              "outlinewidth": 0,
              "ticks": ""
             }
            },
            "type": "scattercarpet"
           }
          ],
          "scattergeo": [
           {
            "marker": {
             "colorbar": {
              "outlinewidth": 0,
              "ticks": ""
             }
            },
            "type": "scattergeo"
           }
          ],
          "scattergl": [
           {
            "marker": {
             "colorbar": {
              "outlinewidth": 0,
              "ticks": ""
             }
            },
            "type": "scattergl"
           }
          ],
          "scattermapbox": [
           {
            "marker": {
             "colorbar": {
              "outlinewidth": 0,
              "ticks": ""
             }
            },
            "type": "scattermapbox"
           }
          ],
          "scatterpolar": [
           {
            "marker": {
             "colorbar": {
              "outlinewidth": 0,
              "ticks": ""
             }
            },
            "type": "scatterpolar"
           }
          ],
          "scatterpolargl": [
           {
            "marker": {
             "colorbar": {
              "outlinewidth": 0,
              "ticks": ""
             }
            },
            "type": "scatterpolargl"
           }
          ],
          "scatterternary": [
           {
            "marker": {
             "colorbar": {
              "outlinewidth": 0,
              "ticks": ""
             }
            },
            "type": "scatterternary"
           }
          ],
          "surface": [
           {
            "colorbar": {
             "outlinewidth": 0,
             "ticks": ""
            },
            "colorscale": [
             [
              0,
              "#0d0887"
             ],
             [
              0.1111111111111111,
              "#46039f"
             ],
             [
              0.2222222222222222,
              "#7201a8"
             ],
             [
              0.3333333333333333,
              "#9c179e"
             ],
             [
              0.4444444444444444,
              "#bd3786"
             ],
             [
              0.5555555555555556,
              "#d8576b"
             ],
             [
              0.6666666666666666,
              "#ed7953"
             ],
             [
              0.7777777777777778,
              "#fb9f3a"
             ],
             [
              0.8888888888888888,
              "#fdca26"
             ],
             [
              1,
              "#f0f921"
             ]
            ],
            "type": "surface"
           }
          ],
          "table": [
           {
            "cells": {
             "fill": {
              "color": "#EBF0F8"
             },
             "line": {
              "color": "white"
             }
            },
            "header": {
             "fill": {
              "color": "#C8D4E3"
             },
             "line": {
              "color": "white"
             }
            },
            "type": "table"
           }
          ]
         },
         "layout": {
          "annotationdefaults": {
           "arrowcolor": "#2a3f5f",
           "arrowhead": 0,
           "arrowwidth": 1
          },
          "autotypenumbers": "strict",
          "coloraxis": {
           "colorbar": {
            "outlinewidth": 0,
            "ticks": ""
           }
          },
          "colorscale": {
           "diverging": [
            [
             0,
             "#8e0152"
            ],
            [
             0.1,
             "#c51b7d"
            ],
            [
             0.2,
             "#de77ae"
            ],
            [
             0.3,
             "#f1b6da"
            ],
            [
             0.4,
             "#fde0ef"
            ],
            [
             0.5,
             "#f7f7f7"
            ],
            [
             0.6,
             "#e6f5d0"
            ],
            [
             0.7,
             "#b8e186"
            ],
            [
             0.8,
             "#7fbc41"
            ],
            [
             0.9,
             "#4d9221"
            ],
            [
             1,
             "#276419"
            ]
           ],
           "sequential": [
            [
             0,
             "#0d0887"
            ],
            [
             0.1111111111111111,
             "#46039f"
            ],
            [
             0.2222222222222222,
             "#7201a8"
            ],
            [
             0.3333333333333333,
             "#9c179e"
            ],
            [
             0.4444444444444444,
             "#bd3786"
            ],
            [
             0.5555555555555556,
             "#d8576b"
            ],
            [
             0.6666666666666666,
             "#ed7953"
            ],
            [
             0.7777777777777778,
             "#fb9f3a"
            ],
            [
             0.8888888888888888,
             "#fdca26"
            ],
            [
             1,
             "#f0f921"
            ]
           ],
           "sequentialminus": [
            [
             0,
             "#0d0887"
            ],
            [
             0.1111111111111111,
             "#46039f"
            ],
            [
             0.2222222222222222,
             "#7201a8"
            ],
            [
             0.3333333333333333,
             "#9c179e"
            ],
            [
             0.4444444444444444,
             "#bd3786"
            ],
            [
             0.5555555555555556,
             "#d8576b"
            ],
            [
             0.6666666666666666,
             "#ed7953"
            ],
            [
             0.7777777777777778,
             "#fb9f3a"
            ],
            [
             0.8888888888888888,
             "#fdca26"
            ],
            [
             1,
             "#f0f921"
            ]
           ]
          },
          "colorway": [
           "#636efa",
           "#EF553B",
           "#00cc96",
           "#ab63fa",
           "#FFA15A",
           "#19d3f3",
           "#FF6692",
           "#B6E880",
           "#FF97FF",
           "#FECB52"
          ],
          "font": {
           "color": "#2a3f5f"
          },
          "geo": {
           "bgcolor": "white",
           "lakecolor": "white",
           "landcolor": "#E5ECF6",
           "showlakes": true,
           "showland": true,
           "subunitcolor": "white"
          },
          "hoverlabel": {
           "align": "left"
          },
          "hovermode": "closest",
          "mapbox": {
           "style": "light"
          },
          "paper_bgcolor": "white",
          "plot_bgcolor": "#E5ECF6",
          "polar": {
           "angularaxis": {
            "gridcolor": "white",
            "linecolor": "white",
            "ticks": ""
           },
           "bgcolor": "#E5ECF6",
           "radialaxis": {
            "gridcolor": "white",
            "linecolor": "white",
            "ticks": ""
           }
          },
          "scene": {
           "xaxis": {
            "backgroundcolor": "#E5ECF6",
            "gridcolor": "white",
            "gridwidth": 2,
            "linecolor": "white",
            "showbackground": true,
            "ticks": "",
            "zerolinecolor": "white"
           },
           "yaxis": {
            "backgroundcolor": "#E5ECF6",
            "gridcolor": "white",
            "gridwidth": 2,
            "linecolor": "white",
            "showbackground": true,
            "ticks": "",
            "zerolinecolor": "white"
           },
           "zaxis": {
            "backgroundcolor": "#E5ECF6",
            "gridcolor": "white",
            "gridwidth": 2,
            "linecolor": "white",
            "showbackground": true,
            "ticks": "",
            "zerolinecolor": "white"
           }
          },
          "shapedefaults": {
           "line": {
            "color": "#2a3f5f"
           }
          },
          "ternary": {
           "aaxis": {
            "gridcolor": "white",
            "linecolor": "white",
            "ticks": ""
           },
           "baxis": {
            "gridcolor": "white",
            "linecolor": "white",
            "ticks": ""
           },
           "bgcolor": "#E5ECF6",
           "caxis": {
            "gridcolor": "white",
            "linecolor": "white",
            "ticks": ""
           }
          },
          "title": {
           "x": 0.05
          },
          "xaxis": {
           "automargin": true,
           "gridcolor": "white",
           "linecolor": "white",
           "ticks": "",
           "title": {
            "standoff": 15
           },
           "zerolinecolor": "white",
           "zerolinewidth": 2
          },
          "yaxis": {
           "automargin": true,
           "gridcolor": "white",
           "linecolor": "white",
           "ticks": "",
           "title": {
            "standoff": 15
           },
           "zerolinecolor": "white",
           "zerolinewidth": 2
          }
         }
        }
       }
      },
      "text/html": [
       "<div>                            <div id=\"9b6e9b14-6400-47c9-b797-23ab3e23b13c\" class=\"plotly-graph-div\" style=\"height:525px; width:100%;\"></div>            <script type=\"text/javascript\">                require([\"plotly\"], function(Plotly) {                    window.PLOTLYENV=window.PLOTLYENV || {};                                    if (document.getElementById(\"9b6e9b14-6400-47c9-b797-23ab3e23b13c\")) {                    Plotly.newPlot(                        \"9b6e9b14-6400-47c9-b797-23ab3e23b13c\",                        [{\"close\":[445.92,446.02,445.84,445.86,446.07,446.24,446.39,446.35,446.31,446.27,446.28,446.31,446.14,446.18,446.12,445.95,445.96,445.98,445.67,445.76,445.77,445.53,445.51,445.43,445.39,445.24,445.32,445.31,445.35,445.4,445.47,445.55,445.55,445.68,445.63,445.68,445.75,446.09,446.0],\"high\":[446.16,446.03,446.02,446.02,446.1,446.27,446.4,446.38,446.36,446.39,446.39,446.32,446.38,446.22,446.15,446.11,446.07,446.17,446.03,445.9,445.9,445.8,445.66,445.59,445.53,445.39,445.42,445.4,445.41,445.47,445.54,445.59,445.68,445.7,445.71,445.73,445.8,446.13,446.09],\"low\":[445.91,445.87,445.74,445.71,445.83,446.04,446.19,446.25,446.26,446.27,446.22,446.24,446.07,446.14,446.03,445.95,445.95,445.94,445.67,445.62,445.76,445.5,445.48,445.37,445.35,445.18,445.2,445.24,444.96,445.11,445.26,445.42,445.52,445.55,445.56,445.59,445.61,445.75,445.95],\"open\":[446.12,445.92,446.02,445.84,445.85,446.06,446.24,446.37,446.35,446.31,446.28,446.28,446.32,446.14,446.14,446.11,445.95,445.95,445.98,445.67,445.76,445.77,445.55,445.51,445.43,445.39,445.25,445.32,445.3,445.12,445.39,445.47,445.55,445.55,445.67,445.63,445.66,445.75,446.09],\"x\":[\"2023-08-09T15:29:00\",\"2023-08-09T15:30:00\",\"2023-08-09T15:31:00\",\"2023-08-09T15:32:00\",\"2023-08-09T15:33:00\",\"2023-08-09T15:34:00\",\"2023-08-09T15:35:00\",\"2023-08-09T15:36:00\",\"2023-08-09T15:37:00\",\"2023-08-09T15:38:00\",\"2023-08-09T15:39:00\",\"2023-08-09T15:40:00\",\"2023-08-09T15:41:00\",\"2023-08-09T15:42:00\",\"2023-08-09T15:43:00\",\"2023-08-09T15:44:00\",\"2023-08-09T15:45:00\",\"2023-08-09T15:46:00\",\"2023-08-09T15:47:00\",\"2023-08-09T15:48:00\",\"2023-08-09T15:49:00\",\"2023-08-09T15:50:00\",\"2023-08-09T15:51:00\",\"2023-08-09T15:52:00\",\"2023-08-09T15:53:00\",\"2023-08-09T15:54:00\",\"2023-08-09T15:55:00\",\"2023-08-09T15:56:00\",\"2023-08-09T15:57:00\",\"2023-08-09T16:00:00\",\"2023-08-09T16:01:00\",\"2023-08-09T16:02:00\",\"2023-08-09T16:03:00\",\"2023-08-09T16:04:00\",\"2023-08-09T16:05:00\",\"2023-08-09T16:06:00\",\"2023-08-09T16:07:00\",\"2023-08-09T16:08:00\",\"2023-08-09T16:09:00\"],\"type\":\"candlestick\"}],                        {\"template\":{\"data\":{\"histogram2dcontour\":[{\"type\":\"histogram2dcontour\",\"colorbar\":{\"outlinewidth\":0,\"ticks\":\"\"},\"colorscale\":[[0.0,\"#0d0887\"],[0.1111111111111111,\"#46039f\"],[0.2222222222222222,\"#7201a8\"],[0.3333333333333333,\"#9c179e\"],[0.4444444444444444,\"#bd3786\"],[0.5555555555555556,\"#d8576b\"],[0.6666666666666666,\"#ed7953\"],[0.7777777777777778,\"#fb9f3a\"],[0.8888888888888888,\"#fdca26\"],[1.0,\"#f0f921\"]]}],\"choropleth\":[{\"type\":\"choropleth\",\"colorbar\":{\"outlinewidth\":0,\"ticks\":\"\"}}],\"histogram2d\":[{\"type\":\"histogram2d\",\"colorbar\":{\"outlinewidth\":0,\"ticks\":\"\"},\"colorscale\":[[0.0,\"#0d0887\"],[0.1111111111111111,\"#46039f\"],[0.2222222222222222,\"#7201a8\"],[0.3333333333333333,\"#9c179e\"],[0.4444444444444444,\"#bd3786\"],[0.5555555555555556,\"#d8576b\"],[0.6666666666666666,\"#ed7953\"],[0.7777777777777778,\"#fb9f3a\"],[0.8888888888888888,\"#fdca26\"],[1.0,\"#f0f921\"]]}],\"heatmap\":[{\"type\":\"heatmap\",\"colorbar\":{\"outlinewidth\":0,\"ticks\":\"\"},\"colorscale\":[[0.0,\"#0d0887\"],[0.1111111111111111,\"#46039f\"],[0.2222222222222222,\"#7201a8\"],[0.3333333333333333,\"#9c179e\"],[0.4444444444444444,\"#bd3786\"],[0.5555555555555556,\"#d8576b\"],[0.6666666666666666,\"#ed7953\"],[0.7777777777777778,\"#fb9f3a\"],[0.8888888888888888,\"#fdca26\"],[1.0,\"#f0f921\"]]}],\"heatmapgl\":[{\"type\":\"heatmapgl\",\"colorbar\":{\"outlinewidth\":0,\"ticks\":\"\"},\"colorscale\":[[0.0,\"#0d0887\"],[0.1111111111111111,\"#46039f\"],[0.2222222222222222,\"#7201a8\"],[0.3333333333333333,\"#9c179e\"],[0.4444444444444444,\"#bd3786\"],[0.5555555555555556,\"#d8576b\"],[0.6666666666666666,\"#ed7953\"],[0.7777777777777778,\"#fb9f3a\"],[0.8888888888888888,\"#fdca26\"],[1.0,\"#f0f921\"]]}],\"contourcarpet\":[{\"type\":\"contourcarpet\",\"colorbar\":{\"outlinewidth\":0,\"ticks\":\"\"}}],\"contour\":[{\"type\":\"contour\",\"colorbar\":{\"outlinewidth\":0,\"ticks\":\"\"},\"colorscale\":[[0.0,\"#0d0887\"],[0.1111111111111111,\"#46039f\"],[0.2222222222222222,\"#7201a8\"],[0.3333333333333333,\"#9c179e\"],[0.4444444444444444,\"#bd3786\"],[0.5555555555555556,\"#d8576b\"],[0.6666666666666666,\"#ed7953\"],[0.7777777777777778,\"#fb9f3a\"],[0.8888888888888888,\"#fdca26\"],[1.0,\"#f0f921\"]]}],\"surface\":[{\"type\":\"surface\",\"colorbar\":{\"outlinewidth\":0,\"ticks\":\"\"},\"colorscale\":[[0.0,\"#0d0887\"],[0.1111111111111111,\"#46039f\"],[0.2222222222222222,\"#7201a8\"],[0.3333333333333333,\"#9c179e\"],[0.4444444444444444,\"#bd3786\"],[0.5555555555555556,\"#d8576b\"],[0.6666666666666666,\"#ed7953\"],[0.7777777777777778,\"#fb9f3a\"],[0.8888888888888888,\"#fdca26\"],[1.0,\"#f0f921\"]]}],\"mesh3d\":[{\"type\":\"mesh3d\",\"colorbar\":{\"outlinewidth\":0,\"ticks\":\"\"}}],\"scatter\":[{\"fillpattern\":{\"fillmode\":\"overlay\",\"size\":10,\"solidity\":0.2},\"type\":\"scatter\"}],\"parcoords\":[{\"type\":\"parcoords\",\"line\":{\"colorbar\":{\"outlinewidth\":0,\"ticks\":\"\"}}}],\"scatterpolargl\":[{\"type\":\"scatterpolargl\",\"marker\":{\"colorbar\":{\"outlinewidth\":0,\"ticks\":\"\"}}}],\"bar\":[{\"error_x\":{\"color\":\"#2a3f5f\"},\"error_y\":{\"color\":\"#2a3f5f\"},\"marker\":{\"line\":{\"color\":\"#E5ECF6\",\"width\":0.5},\"pattern\":{\"fillmode\":\"overlay\",\"size\":10,\"solidity\":0.2}},\"type\":\"bar\"}],\"scattergeo\":[{\"type\":\"scattergeo\",\"marker\":{\"colorbar\":{\"outlinewidth\":0,\"ticks\":\"\"}}}],\"scatterpolar\":[{\"type\":\"scatterpolar\",\"marker\":{\"colorbar\":{\"outlinewidth\":0,\"ticks\":\"\"}}}],\"histogram\":[{\"marker\":{\"pattern\":{\"fillmode\":\"overlay\",\"size\":10,\"solidity\":0.2}},\"type\":\"histogram\"}],\"scattergl\":[{\"type\":\"scattergl\",\"marker\":{\"colorbar\":{\"outlinewidth\":0,\"ticks\":\"\"}}}],\"scatter3d\":[{\"type\":\"scatter3d\",\"line\":{\"colorbar\":{\"outlinewidth\":0,\"ticks\":\"\"}},\"marker\":{\"colorbar\":{\"outlinewidth\":0,\"ticks\":\"\"}}}],\"scattermapbox\":[{\"type\":\"scattermapbox\",\"marker\":{\"colorbar\":{\"outlinewidth\":0,\"ticks\":\"\"}}}],\"scatterternary\":[{\"type\":\"scatterternary\",\"marker\":{\"colorbar\":{\"outlinewidth\":0,\"ticks\":\"\"}}}],\"scattercarpet\":[{\"type\":\"scattercarpet\",\"marker\":{\"colorbar\":{\"outlinewidth\":0,\"ticks\":\"\"}}}],\"carpet\":[{\"aaxis\":{\"endlinecolor\":\"#2a3f5f\",\"gridcolor\":\"white\",\"linecolor\":\"white\",\"minorgridcolor\":\"white\",\"startlinecolor\":\"#2a3f5f\"},\"baxis\":{\"endlinecolor\":\"#2a3f5f\",\"gridcolor\":\"white\",\"linecolor\":\"white\",\"minorgridcolor\":\"white\",\"startlinecolor\":\"#2a3f5f\"},\"type\":\"carpet\"}],\"table\":[{\"cells\":{\"fill\":{\"color\":\"#EBF0F8\"},\"line\":{\"color\":\"white\"}},\"header\":{\"fill\":{\"color\":\"#C8D4E3\"},\"line\":{\"color\":\"white\"}},\"type\":\"table\"}],\"barpolar\":[{\"marker\":{\"line\":{\"color\":\"#E5ECF6\",\"width\":0.5},\"pattern\":{\"fillmode\":\"overlay\",\"size\":10,\"solidity\":0.2}},\"type\":\"barpolar\"}],\"pie\":[{\"automargin\":true,\"type\":\"pie\"}]},\"layout\":{\"autotypenumbers\":\"strict\",\"colorway\":[\"#636efa\",\"#EF553B\",\"#00cc96\",\"#ab63fa\",\"#FFA15A\",\"#19d3f3\",\"#FF6692\",\"#B6E880\",\"#FF97FF\",\"#FECB52\"],\"font\":{\"color\":\"#2a3f5f\"},\"hovermode\":\"closest\",\"hoverlabel\":{\"align\":\"left\"},\"paper_bgcolor\":\"white\",\"plot_bgcolor\":\"#E5ECF6\",\"polar\":{\"bgcolor\":\"#E5ECF6\",\"angularaxis\":{\"gridcolor\":\"white\",\"linecolor\":\"white\",\"ticks\":\"\"},\"radialaxis\":{\"gridcolor\":\"white\",\"linecolor\":\"white\",\"ticks\":\"\"}},\"ternary\":{\"bgcolor\":\"#E5ECF6\",\"aaxis\":{\"gridcolor\":\"white\",\"linecolor\":\"white\",\"ticks\":\"\"},\"baxis\":{\"gridcolor\":\"white\",\"linecolor\":\"white\",\"ticks\":\"\"},\"caxis\":{\"gridcolor\":\"white\",\"linecolor\":\"white\",\"ticks\":\"\"}},\"coloraxis\":{\"colorbar\":{\"outlinewidth\":0,\"ticks\":\"\"}},\"colorscale\":{\"sequential\":[[0.0,\"#0d0887\"],[0.1111111111111111,\"#46039f\"],[0.2222222222222222,\"#7201a8\"],[0.3333333333333333,\"#9c179e\"],[0.4444444444444444,\"#bd3786\"],[0.5555555555555556,\"#d8576b\"],[0.6666666666666666,\"#ed7953\"],[0.7777777777777778,\"#fb9f3a\"],[0.8888888888888888,\"#fdca26\"],[1.0,\"#f0f921\"]],\"sequentialminus\":[[0.0,\"#0d0887\"],[0.1111111111111111,\"#46039f\"],[0.2222222222222222,\"#7201a8\"],[0.3333333333333333,\"#9c179e\"],[0.4444444444444444,\"#bd3786\"],[0.5555555555555556,\"#d8576b\"],[0.6666666666666666,\"#ed7953\"],[0.7777777777777778,\"#fb9f3a\"],[0.8888888888888888,\"#fdca26\"],[1.0,\"#f0f921\"]],\"diverging\":[[0,\"#8e0152\"],[0.1,\"#c51b7d\"],[0.2,\"#de77ae\"],[0.3,\"#f1b6da\"],[0.4,\"#fde0ef\"],[0.5,\"#f7f7f7\"],[0.6,\"#e6f5d0\"],[0.7,\"#b8e186\"],[0.8,\"#7fbc41\"],[0.9,\"#4d9221\"],[1,\"#276419\"]]},\"xaxis\":{\"gridcolor\":\"white\",\"linecolor\":\"white\",\"ticks\":\"\",\"title\":{\"standoff\":15},\"zerolinecolor\":\"white\",\"automargin\":true,\"zerolinewidth\":2},\"yaxis\":{\"gridcolor\":\"white\",\"linecolor\":\"white\",\"ticks\":\"\",\"title\":{\"standoff\":15},\"zerolinecolor\":\"white\",\"automargin\":true,\"zerolinewidth\":2},\"scene\":{\"xaxis\":{\"backgroundcolor\":\"#E5ECF6\",\"gridcolor\":\"white\",\"linecolor\":\"white\",\"showbackground\":true,\"ticks\":\"\",\"zerolinecolor\":\"white\",\"gridwidth\":2},\"yaxis\":{\"backgroundcolor\":\"#E5ECF6\",\"gridcolor\":\"white\",\"linecolor\":\"white\",\"showbackground\":true,\"ticks\":\"\",\"zerolinecolor\":\"white\",\"gridwidth\":2},\"zaxis\":{\"backgroundcolor\":\"#E5ECF6\",\"gridcolor\":\"white\",\"linecolor\":\"white\",\"showbackground\":true,\"ticks\":\"\",\"zerolinecolor\":\"white\",\"gridwidth\":2}},\"shapedefaults\":{\"line\":{\"color\":\"#2a3f5f\"}},\"annotationdefaults\":{\"arrowcolor\":\"#2a3f5f\",\"arrowhead\":0,\"arrowwidth\":1},\"geo\":{\"bgcolor\":\"white\",\"landcolor\":\"#E5ECF6\",\"subunitcolor\":\"white\",\"showland\":true,\"showlakes\":true,\"lakecolor\":\"white\"},\"title\":{\"x\":0.05},\"mapbox\":{\"style\":\"light\"}}}},                        {\"responsive\": true}                    ).then(function(){\n",
       "                            \n",
       "var gd = document.getElementById('9b6e9b14-6400-47c9-b797-23ab3e23b13c');\n",
       "var x = new MutationObserver(function (mutations, observer) {{\n",
       "        var display = window.getComputedStyle(gd).display;\n",
       "        if (!display || display === 'none') {{\n",
       "            console.log([gd, 'removed!']);\n",
       "            Plotly.purge(gd);\n",
       "            observer.disconnect();\n",
       "        }}\n",
       "}});\n",
       "\n",
       "// Listen for the removal of the full notebook cells\n",
       "var notebookContainer = gd.closest('#notebook-container');\n",
       "if (notebookContainer) {{\n",
       "    x.observe(notebookContainer, {childList: true});\n",
       "}}\n",
       "\n",
       "// Listen for the clearing of the current output cell\n",
       "var outputEl = gd.closest('.output');\n",
       "if (outputEl) {{\n",
       "    x.observe(outputEl, {childList: true});\n",
       "}}\n",
       "\n",
       "                        })                };                });            </script>        </div>"
      ]
     },
     "metadata": {},
     "output_type": "display_data"
    }
   ],
   "source": [
    "\n",
    "start_datetime = '2023-08-09T04:00:00Z'\n",
    "end_datetime = '2023-08-09T15:00Z'\n",
    "\n",
    "end_datetime = (dt.now() - timedelta(minutes=1)).strftime(\"%Y-%m-%dT%H:%M:00Z\")\n",
    "start_datetime = (dt.now() - timedelta(minutes=60)).strftime(\"%Y-%m-%dT%H:%M:00Z\")\n",
    "print(start_datetime, end_datetime)\n",
    "df = getDf('SPY', start_datetime, end_datetime)\n",
    "\n",
    "fig = go.Figure(data=[go.Candlestick(x=df['datetime'],\n",
    "                open=df['open'],\n",
    "                high=df['high'],\n",
    "                low=df['low'],\n",
    "                close=df['close'])])\n",
    "\n",
    "fig.show()"
   ]
  },
  {
   "cell_type": "code",
   "execution_count": 29,
   "metadata": {},
   "outputs": [
    {
     "name": "stdout",
     "output_type": "stream",
     "text": [
      "Attempting to get access token using previous refresh token pSJFzMb5j1rLboefn26X-18fMuHqyWUMkCrKS079x60Hf\n",
      "Access token is expired, requesting a new one...\n",
      "Got access token using previous refresh token\n",
      "Access token already exists and is valid, skipping login\n",
      "Access token is still valid, 1169.057609796524 seconds left until expiration\n",
      "https://sim-api.tradestation.com/v3/marketdata/barcharts/RTYU23?interval=1&unit=Minute&firstdate=2023-08-09T04:00:00Z&lastdate=2023-08-09T04:20:00Z\n",
      "200\n",
      "{'Bars': [{'High': '1955.6', 'Low': '1955.4', 'Open': '1955.4', 'Close': '1955.6', 'TimeStamp': '2023-08-09T04:01:00Z', 'TotalVolume': '7', 'DownTicks': 1, 'DownVolume': 1, 'OpenInterest': '0', 'IsRealtime': False, 'IsEndOfHistory': False, 'TotalTicks': 7, 'UnchangedTicks': 0, 'UnchangedVolume': 0, 'UpTicks': 6, 'UpVolume': 6, 'Epoch': 1691553660000, 'BarStatus': 'Closed'}, {'High': '1955.6', 'Low': '1955.4', 'Open': '1955.6', 'Close': '1955.4', 'TimeStamp': '2023-08-09T04:02:00Z', 'TotalVolume': '4', 'DownTicks': 1, 'DownVolume': 1, 'OpenInterest': '0', 'IsRealtime': False, 'IsEndOfHistory': False, 'TotalTicks': 4, 'UnchangedTicks': 0, 'UnchangedVolume': 0, 'UpTicks': 3, 'UpVolume': 3, 'Epoch': 1691553720000, 'BarStatus': 'Closed'}, {'High': '1955.5', 'Low': '1955.3', 'Open': '1955.4', 'Close': '1955.3', 'TimeStamp': '2023-08-09T04:03:00Z', 'TotalVolume': '5', 'DownTicks': 4, 'DownVolume': 4, 'OpenInterest': '0', 'IsRealtime': False, 'IsEndOfHistory': False, 'TotalTicks': 5, 'UnchangedTicks': 0, 'UnchangedVolume': 0, 'UpTicks': 1, 'UpVolume': 1, 'Epoch': 1691553780000, 'BarStatus': 'Closed'}, {'High': '1955.5', 'Low': '1955.5', 'Open': '1955.5', 'Close': '1955.5', 'TimeStamp': '2023-08-09T04:04:00Z', 'TotalVolume': '1', 'DownTicks': 0, 'DownVolume': 0, 'OpenInterest': '0', 'IsRealtime': False, 'IsEndOfHistory': False, 'TotalTicks': 1, 'UnchangedTicks': 0, 'UnchangedVolume': 0, 'UpTicks': 1, 'UpVolume': 1, 'Epoch': 1691553840000, 'BarStatus': 'Closed'}, {'High': '1955.5', 'Low': '1955.1', 'Open': '1955.3', 'Close': '1955.5', 'TimeStamp': '2023-08-09T04:05:00Z', 'TotalVolume': '13', 'DownTicks': 9, 'DownVolume': 10, 'OpenInterest': '0', 'IsRealtime': False, 'IsEndOfHistory': False, 'TotalTicks': 12, 'UnchangedTicks': 0, 'UnchangedVolume': 0, 'UpTicks': 3, 'UpVolume': 3, 'Epoch': 1691553900000, 'BarStatus': 'Closed'}, {'High': '1955.7', 'Low': '1955.5', 'Open': '1955.7', 'Close': '1955.7', 'TimeStamp': '2023-08-09T04:06:00Z', 'TotalVolume': '3', 'DownTicks': 1, 'DownVolume': 1, 'OpenInterest': '0', 'IsRealtime': False, 'IsEndOfHistory': False, 'TotalTicks': 3, 'UnchangedTicks': 0, 'UnchangedVolume': 0, 'UpTicks': 2, 'UpVolume': 2, 'Epoch': 1691553960000, 'BarStatus': 'Closed'}, {'High': '1956', 'Low': '1955.7', 'Open': '1955.7', 'Close': '1956', 'TimeStamp': '2023-08-09T04:07:00Z', 'TotalVolume': '10', 'DownTicks': 1, 'DownVolume': 1, 'OpenInterest': '0', 'IsRealtime': False, 'IsEndOfHistory': False, 'TotalTicks': 10, 'UnchangedTicks': 0, 'UnchangedVolume': 0, 'UpTicks': 9, 'UpVolume': 9, 'Epoch': 1691554020000, 'BarStatus': 'Closed'}, {'High': '1955.9', 'Low': '1955.6', 'Open': '1955.9', 'Close': '1955.6', 'TimeStamp': '2023-08-09T04:11:00Z', 'TotalVolume': '7', 'DownTicks': 7, 'DownVolume': 7, 'OpenInterest': '0', 'IsRealtime': False, 'IsEndOfHistory': False, 'TotalTicks': 7, 'UnchangedTicks': 0, 'UnchangedVolume': 0, 'UpTicks': 0, 'UpVolume': 0, 'Epoch': 1691554260000, 'BarStatus': 'Closed'}, {'High': '1955.6', 'Low': '1955.4', 'Open': '1955.6', 'Close': '1955.5', 'TimeStamp': '2023-08-09T04:12:00Z', 'TotalVolume': '6', 'DownTicks': 5, 'DownVolume': 5, 'OpenInterest': '0', 'IsRealtime': False, 'IsEndOfHistory': False, 'TotalTicks': 6, 'UnchangedTicks': 0, 'UnchangedVolume': 0, 'UpTicks': 1, 'UpVolume': 1, 'Epoch': 1691554320000, 'BarStatus': 'Closed'}, {'High': '1955.5', 'Low': '1955.5', 'Open': '1955.5', 'Close': '1955.5', 'TimeStamp': '2023-08-09T04:13:00Z', 'TotalVolume': '1', 'DownTicks': 0, 'DownVolume': 0, 'OpenInterest': '0', 'IsRealtime': False, 'IsEndOfHistory': False, 'TotalTicks': 1, 'UnchangedTicks': 0, 'UnchangedVolume': 0, 'UpTicks': 1, 'UpVolume': 1, 'Epoch': 1691554380000, 'BarStatus': 'Closed'}, {'High': '1955.4', 'Low': '1955.4', 'Open': '1955.4', 'Close': '1955.4', 'TimeStamp': '2023-08-09T04:14:00Z', 'TotalVolume': '4', 'DownTicks': 4, 'DownVolume': 4, 'OpenInterest': '0', 'IsRealtime': False, 'IsEndOfHistory': False, 'TotalTicks': 4, 'UnchangedTicks': 0, 'UnchangedVolume': 0, 'UpTicks': 0, 'UpVolume': 0, 'Epoch': 1691554440000, 'BarStatus': 'Closed'}, {'High': '1955.4', 'Low': '1955.4', 'Open': '1955.4', 'Close': '1955.4', 'TimeStamp': '2023-08-09T04:15:00Z', 'TotalVolume': '2', 'DownTicks': 2, 'DownVolume': 2, 'OpenInterest': '0', 'IsRealtime': False, 'IsEndOfHistory': False, 'TotalTicks': 2, 'UnchangedTicks': 0, 'UnchangedVolume': 0, 'UpTicks': 0, 'UpVolume': 0, 'Epoch': 1691554500000, 'BarStatus': 'Closed'}, {'High': '1955.6', 'Low': '1955.5', 'Open': '1955.5', 'Close': '1955.6', 'TimeStamp': '2023-08-09T04:16:00Z', 'TotalVolume': '5', 'DownTicks': 0, 'DownVolume': 0, 'OpenInterest': '0', 'IsRealtime': False, 'IsEndOfHistory': False, 'TotalTicks': 5, 'UnchangedTicks': 0, 'UnchangedVolume': 0, 'UpTicks': 5, 'UpVolume': 5, 'Epoch': 1691554560000, 'BarStatus': 'Closed'}, {'High': '1955.6', 'Low': '1955.6', 'Open': '1955.6', 'Close': '1955.6', 'TimeStamp': '2023-08-09T04:18:00Z', 'TotalVolume': '3', 'DownTicks': 0, 'DownVolume': 0, 'OpenInterest': '0', 'IsRealtime': False, 'IsEndOfHistory': False, 'TotalTicks': 3, 'UnchangedTicks': 0, 'UnchangedVolume': 0, 'UpTicks': 3, 'UpVolume': 3, 'Epoch': 1691554680000, 'BarStatus': 'Closed'}, {'High': '1955.5', 'Low': '1955.5', 'Open': '1955.5', 'Close': '1955.5', 'TimeStamp': '2023-08-09T04:19:00Z', 'TotalVolume': '2', 'DownTicks': 2, 'DownVolume': 2, 'OpenInterest': '0', 'IsRealtime': False, 'IsEndOfHistory': True, 'TotalTicks': 2, 'UnchangedTicks': 0, 'UnchangedVolume': 0, 'UpTicks': 0, 'UpVolume': 0, 'Epoch': 1691554740000, 'BarStatus': 'Closed'}]}\n",
      "2023-08-09T04:01:00Z Closed 1955.4 1955.6 1955.4 1955.6 7\n",
      "2023-08-09T04:02:00Z Closed 1955.6 1955.6 1955.4 1955.4 4\n",
      "2023-08-09T04:03:00Z Closed 1955.4 1955.5 1955.3 1955.3 5\n",
      "2023-08-09T04:04:00Z Closed 1955.5 1955.5 1955.5 1955.5 1\n",
      "2023-08-09T04:05:00Z Closed 1955.3 1955.5 1955.1 1955.5 13\n",
      "2023-08-09T04:06:00Z Closed 1955.7 1955.7 1955.5 1955.7 3\n",
      "2023-08-09T04:07:00Z Closed 1955.7 1956 1955.7 1956 10\n",
      "2023-08-09T04:11:00Z Closed 1955.9 1955.9 1955.6 1955.6 7\n",
      "2023-08-09T04:12:00Z Closed 1955.6 1955.6 1955.4 1955.5 6\n",
      "2023-08-09T04:13:00Z Closed 1955.5 1955.5 1955.5 1955.5 1\n",
      "2023-08-09T04:14:00Z Closed 1955.4 1955.4 1955.4 1955.4 4\n",
      "2023-08-09T04:15:00Z Closed 1955.4 1955.4 1955.4 1955.4 2\n",
      "2023-08-09T04:16:00Z Closed 1955.5 1955.6 1955.5 1955.6 5\n",
      "2023-08-09T04:18:00Z Closed 1955.6 1955.6 1955.6 1955.6 3\n",
      "2023-08-09T04:19:00Z Closed 1955.5 1955.5 1955.5 1955.5 2\n"
     ]
    }
   ],
   "source": [
    "start = \"2023-06-24T00:00:00Z\"\n",
    "end = \"2023-07-26T23:59:59Z\"\n",
    "\n",
    "#start = \"2023-03-24T00:00:00Z\"\n",
    "#end = \"2023-06-23T23:59:59Z\"\n",
    "\n",
    "ticker = \"RTYU23\"\n",
    "ts = TS_Auth(API_KEY, API_SECRET_KEY)\n",
    "ts.start_auth0()\n",
    "\n",
    "access_token = ts.get_access_token()\n",
    "\n",
    "#start_datetime, end_datetime = getDatetimeSpanForWeekNumber(2023, 28)\n",
    "start_datetime = '2023-08-09T04:00:00Z'\n",
    "end_datetime = '2023-08-09T04:20:00Z'\n",
    "\n",
    "#start_datetime = '2023-08-09T14:20:00Z'\n",
    "#end_datetime = '2023-08-09T14:30:00Z'\n",
    "\n",
    "ticker = \"RTYU23\"\n",
    "unit = \"Minute\"\n",
    "url = f\"https://sim-api.tradestation.com/v3/marketdata/barcharts/{ticker}?interval=1&unit={unit}&firstdate={start_datetime}&lastdate={end_datetime}\"\n",
    "#url = f\"https://api.tradestation.com/v3/marketdata/barcharts/{ticker}?interval=1&unit={unit}&barsback=10\"\n",
    "\n",
    "#url = \"https://sim-api.tradestation.com/v3/marketdata/barcharts/RTYU23?interval=1&unit=Minute&firstdate=2023-06-28T15:30:00Z&lastdate=2023-07-20T16:30:00Z\"\n",
    "print(url)  \n",
    "headers = {'Authorization': f'Bearer {access_token}' }\n",
    "\n",
    "response = requests.request(\"GET\", url, headers=headers)\n",
    "print(response.status_code)\n",
    "json_data = response.json()\n",
    "print(json_data)\n",
    "for bar in json_data['Bars']:\n",
    "    print(bar['TimeStamp'], bar['BarStatus'], bar['Open'], bar['High'], bar['Low'], bar['Close'], bar['TotalVolume'])"
   ]
  }
 ],
 "metadata": {
  "kernelspec": {
   "display_name": "Python 3",
   "language": "python",
   "name": "python3"
  },
  "language_info": {
   "codemirror_mode": {
    "name": "ipython",
    "version": 3
   },
   "file_extension": ".py",
   "mimetype": "text/x-python",
   "name": "python",
   "nbconvert_exporter": "python",
   "pygments_lexer": "ipython3",
   "version": "3.10.12"
  },
  "orig_nbformat": 4
 },
 "nbformat": 4,
 "nbformat_minor": 2
}
